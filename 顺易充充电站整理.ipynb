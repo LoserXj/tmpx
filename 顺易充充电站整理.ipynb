{
 "cells": [
  {
   "cell_type": "code",
   "execution_count": 1,
   "metadata": {},
   "outputs": [],
   "source": [
    "import pandas as pd\n",
    "import geopandas as gpd"
   ]
  },
  {
   "cell_type": "code",
   "execution_count": 2,
   "metadata": {},
   "outputs": [],
   "source": [
    "# 读取充电站数据\n",
    "station = gpd.read_file('./data/顺易充数据/shanghai_stations_wgs84.geojson')\n",
    "station['stationId'] = station['stationId'].astype(int)\n",
    "# 读取充电站信息数据\n",
    "info = pd.read_csv('./data/顺易充数据/station_info.csv')\n",
    "info['stationId'] = info['stationId'].astype(int)"
   ]
  },
  {
   "cell_type": "code",
   "execution_count": 3,
   "metadata": {},
   "outputs": [],
   "source": [
    "# 充电站数据加入名字信息\n",
    "station = station[station['stationId'].isin(info['stationId'])]\n",
    "station = pd.merge(station,info[['stationId','stationName']],on=['stationId'],how='left')\n",
    "station.to_file('./data/顺易充数据/有用上海顺易充充电站数据.geojson')"
   ]
  }
 ],
 "metadata": {
  "kernelspec": {
   "display_name": "python3.8",
   "language": "python",
   "name": "python3"
  },
  "language_info": {
   "codemirror_mode": {
    "name": "ipython",
    "version": 3
   },
   "file_extension": ".py",
   "mimetype": "text/x-python",
   "name": "python",
   "nbconvert_exporter": "python",
   "pygments_lexer": "ipython3",
   "version": "3.8.19"
  }
 },
 "nbformat": 4,
 "nbformat_minor": 2
}
