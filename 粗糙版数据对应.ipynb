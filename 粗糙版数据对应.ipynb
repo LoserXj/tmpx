{
 "cells": [
  {
   "cell_type": "code",
   "execution_count": 1,
   "metadata": {},
   "outputs": [],
   "source": [
    "import pandas as pd\n",
    "import transbigdata as tbd \n",
    "import geopandas as gpd \n",
    "import warnings \n",
    "warnings.filterwarnings('ignore')"
   ]
  },
  {
   "cell_type": "code",
   "execution_count": 3,
   "metadata": {},
   "outputs": [],
   "source": [
    "# 读取修正版的顺易充充电站数据\n",
    "all_shunyi_station = gpd.read_file('./data/顺易充数据/修正_all_stations_wgs84.json')\n",
    "# 读取上海的行政区划\n",
    "shanghai_admin = tbd.getadmin('上海市', ak = '169521e66b7a30adcaa36ae0a9c04c8d', jscode='2cdd826ad4099fae293dbabf3657c78d', subdistricts=False, timeout=20)\n",
    "shanghai_shunyi_station = gpd.sjoin(all_shunyi_station,shanghai_admin)\n",
    "# 读取中促盟的充电站信息\n",
    "zhongcumeng_station = gpd.read_file('./data/上海充电桩_中促盟_合并站点.geojson')\n",
    "shanghai_shunyi_station.rename(columns={'index_right':'index'},inplace=True)"
   ]
  },
  {
   "cell_type": "code",
   "execution_count": 8,
   "metadata": {},
   "outputs": [],
   "source": [
    "corresponding_station = tbd.ckdnearest_point(shanghai_shunyi_station,zhongcumeng_station)"
   ]
  },
  {
   "cell_type": "markdown",
   "metadata": {},
   "source": [
    "#### 找到中促盟和顺易充对应的充电站"
   ]
  },
  {
   "cell_type": "code",
   "execution_count": 28,
   "metadata": {},
   "outputs": [],
   "source": [
    "corresponding_station = tbd.ckdnearest_point(shanghai_shunyi_station,zhongcumeng_station)\n",
    "corresponding_station = corresponding_station[['stationId','myid']]\n",
    "station_agg = pd.merge(shanghai_shunyi_station,corresponding_station,on=['stationId'],how='inner')"
   ]
  },
  {
   "cell_type": "code",
   "execution_count": 31,
   "metadata": {},
   "outputs": [],
   "source": [
    "station_agg = station_agg[['stationId','myid']]\n",
    "# 保存对应关系\n",
    "station_agg.to_csv('./output/shunyip_to_hw.csv',index=None)"
   ]
  },
  {
   "cell_type": "markdown",
   "metadata": {},
   "source": [
    "#### 整合数据到一起"
   ]
  },
  {
   "cell_type": "code",
   "execution_count": 35,
   "metadata": {},
   "outputs": [],
   "source": [
    "# 读取中促盟特征数据\n",
    "feature_zcm = pd.read_csv('./output/中促盟充电站特征.csv')\n",
    "# 保留有用的列\n",
    "feature_zcm = feature_zcm[['myid','充电站所处道路属性','充电站所属区域分类', '充电站类型','交流桩数量', '直流桩数量', '交流桩总装机功率', '直流桩总装机功率'\n",
    "                           ,'area', 'technology_park', 'car_park', 'supermarket', 'residential','commercial','station_sum']]\n",
    "# 读取对应关系，保留有用的中促盟对应站点信息\n",
    "mapping_table= pd.read_csv('./output/shunyip_to_hw.csv')\n",
    "feature_zcm_agg = pd.merge(mapping_table,feature_zcm,on=['myid'],how='inner')"
   ]
  },
  {
   "cell_type": "code",
   "execution_count": 40,
   "metadata": {},
   "outputs": [],
   "source": [
    "feature_zcm_agg.to_csv('./output/站点及训练数据.csv',index=None)"
   ]
  }
 ],
 "metadata": {
  "kernelspec": {
   "display_name": "python3.8",
   "language": "python",
   "name": "python3"
  },
  "language_info": {
   "codemirror_mode": {
    "name": "ipython",
    "version": 3
   },
   "file_extension": ".py",
   "mimetype": "text/x-python",
   "name": "python",
   "nbconvert_exporter": "python",
   "pygments_lexer": "ipython3",
   "version": "3.8.19"
  }
 },
 "nbformat": 4,
 "nbformat_minor": 2
}
