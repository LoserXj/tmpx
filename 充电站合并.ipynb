{
 "cells": [
  {
   "cell_type": "code",
   "execution_count": null,
   "metadata": {},
   "outputs": [],
   "source": [
    "import pandas as pd\n",
    "import transbigdata as tbd\n",
    "import geopandas as gpd"
   ]
  },
  {
   "cell_type": "code",
   "execution_count": null,
   "metadata": {},
   "outputs": [],
   "source": [
    "# shanghai_admin = tbd.getadmin('上海市', ak = '169521e66b7a30adcaa36ae0a9c04c8d', jscode='2cdd826ad4099fae293dbabf3657c78d', subdistricts=False, timeout=20)\n",
    "# shanghai_admin.plot()"
   ]
  },
  {
   "cell_type": "code",
   "execution_count": null,
   "metadata": {},
   "outputs": [],
   "source": [
    "shunyi_shanghai_charge = gpd.read_file('./data/顺易充数据/有用上海顺易充充电站数据.geojson')\n",
    "shunyi_shanghai_charge.drop(columns=['operId', 'typeCode', 'recommendFlag',\n",
    "       'operType', 'buildStatus', 'isDiscounts','citycode','adcode', 'name', 'level', 'center'],inplace=True)\n",
    "zhongcumeng_station = gpd.read_file('./data/上海充电桩_中促盟_合并站点.geojson')\n",
    "shunyi_shanghai_charge['geometry'] = gpd.points_from_xy(shunyi_shanghai_charge['stationLon'],shunyi_shanghai_charge['stationLat'])\n",
    "shunyi_shanghai_charge.rename(columns={'index_right':'index'},inplace=True)"
   ]
  },
  {
   "cell_type": "code",
   "execution_count": null,
   "metadata": {},
   "outputs": [],
   "source": [
    "redius = 500\n",
    "shunyi_shanghai_charge.crs = {'init':'epsg:4326'}\n",
    "shunyi_shanghai_charge_proj = shunyi_shanghai_charge.to_crs(epsg=4528)\n",
    "shunyi_shanghai_charge['geometry'] = shunyi_shanghai_charge_proj.buffer(redius)\n",
    "shunyi_shanghai_charge.to_crs(epsg=4326,inplace=True)\n",
    "station_sjoin = gpd.sjoin(zhongcumeng_station,shunyi_shanghai_charge)"
   ]
  },
  {
   "cell_type": "code",
   "execution_count": null,
   "metadata": {},
   "outputs": [],
   "source": [
    "station_sjoin.columns"
   ]
  },
  {
   "cell_type": "code",
   "execution_count": null,
   "metadata": {},
   "outputs": [],
   "source": [
    "station_sjoin['distance'] = tbd.getdistance(station_sjoin['经度'],station_sjoin['纬度'],station_sjoin['stationLon'],station_sjoin['stationLat'])\n",
    "station_sjoin"
   ]
  },
  {
   "cell_type": "code",
   "execution_count": null,
   "metadata": {},
   "outputs": [],
   "source": [
    "station_sjoin_unique = station_sjoin[station_sjoin['distance']<10]\n",
    "station_sjoin_unique"
   ]
  },
  {
   "cell_type": "code",
   "execution_count": null,
   "metadata": {},
   "outputs": [],
   "source": [
    "zhongcumeng_station.columns"
   ]
  }
 ],
 "metadata": {
  "kernelspec": {
   "display_name": "python3.8",
   "language": "python",
   "name": "python3"
  },
  "language_info": {
   "codemirror_mode": {
    "name": "ipython",
    "version": 3
   },
   "file_extension": ".py",
   "mimetype": "text/x-python",
   "name": "python",
   "nbconvert_exporter": "python",
   "pygments_lexer": "ipython3",
   "version": "3.8.19"
  }
 },
 "nbformat": 4,
 "nbformat_minor": 2
}
